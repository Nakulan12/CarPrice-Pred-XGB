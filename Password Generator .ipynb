{
  "nbformat": 4,
  "nbformat_minor": 0,
  "metadata": {
    "colab": {
      "provenance": [],
      "authorship_tag": "ABX9TyM6n14JQlDsUnGgDQrRyJkE",
      "include_colab_link": true
    },
    "kernelspec": {
      "name": "python3",
      "display_name": "Python 3"
    },
    "language_info": {
      "name": "python"
    }
  },
  "cells": [
    {
      "cell_type": "markdown",
      "metadata": {
        "id": "view-in-github",
        "colab_type": "text"
      },
      "source": [
        "<a href=\"https://colab.research.google.com/github/Nakulan12/CarPrice-Pred-XGB/blob/main/Password%20Generator%20.ipynb\" target=\"_parent\"><img src=\"https://colab.research.google.com/assets/colab-badge.svg\" alt=\"Open In Colab\"/></a>"
      ]
    },
    {
      "cell_type": "code",
      "execution_count": 6,
      "metadata": {
        "colab": {
          "base_uri": "https://localhost:8080/"
        },
        "id": "DMMFSvadFWdB",
        "outputId": "fe3ee20b-f004-409b-f21c-f5c2198553b9"
      },
      "outputs": [
        {
          "output_type": "stream",
          "name": "stdout",
          "text": [
            "RTEzbL(EVk1&oe\"y\n"
          ]
        }
      ],
      "source": [
        "import secrets\n",
        "import string\n",
        "\n",
        "def generate_password(length=16):\n",
        "    characters = string.ascii_letters + string.digits + string.punctuation\n",
        "    password = ''.join(secrets.choice(characters) for _ in range(length))\n",
        "    return password\n",
        "\n",
        "print(generate_password())\n"
      ]
    }
  ]
}